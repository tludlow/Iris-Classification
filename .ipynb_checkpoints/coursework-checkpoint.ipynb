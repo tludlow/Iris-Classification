{
 "cells": [
  {
   "cell_type": "markdown",
   "metadata": {},
   "source": [
    "## Import the dataset\n",
    "[coursework doc](https://warwick.ac.uk/fac/sci/dcs/teaching/material/cs342/coursework_cs342_2020-2021.pdf)\n",
    "[iterative process](https://warwick.ac.uk/fac/sci/dcs/teaching/material/cs342/iterativeprocess.pdf)\n",
    "\n",
    "Dataset information:\n",
    "1) sepal length in cm \n",
    "2) sepal width in cm\n",
    "3) petal length in cm\n",
    "4) petal width in cm"
   ]
  },
  {
   "cell_type": "code",
   "execution_count": 31,
   "metadata": {},
   "outputs": [
    {
     "name": "stdout",
     "output_type": "stream",
     "text": [
      "       0    1    2    3               4\n",
      "0    5.1  3.5  1.4  0.2     Iris-setosa\n",
      "1    4.9  3.0  1.4  0.2     Iris-setosa\n",
      "2    4.7  3.2  1.3  0.2     Iris-setosa\n",
      "3    4.6  3.1  1.5  0.2     Iris-setosa\n",
      "4    5.0  3.6  1.4  0.2     Iris-setosa\n",
      "..   ...  ...  ...  ...             ...\n",
      "145  6.7  3.0  5.2  2.3  Iris-virginica\n",
      "146  6.3  2.5  5.0  1.9  Iris-virginica\n",
      "147  6.5  3.0  5.2  2.0  Iris-virginica\n",
      "148  6.2  3.4  5.4  2.3  Iris-virginica\n",
      "149  5.9  3.0  5.1  1.8  Iris-virginica\n",
      "\n",
      "[150 rows x 5 columns]\n"
     ]
    }
   ],
   "source": [
    "import pandas as pd\n",
    "import matplotlib.pyplot as plt\n",
    "import numpy as np\n",
    "\n",
    "#import the flower data\n",
    "df = pd.read_csv(\"./iris.data\", header=None)\n",
    "print(df)"
   ]
  },
  {
   "cell_type": "markdown",
   "metadata": {},
   "source": [
    "### Convert the dataset labels into numbers rather than text\n",
    "0 = Iris-setosa\n",
    "1 = Iris-versicolor\n",
    "2 = Iris-virginica"
   ]
  },
  {
   "cell_type": "code",
   "execution_count": 4,
   "metadata": {},
   "outputs": [],
   "source": [
    "df[4].replace('Iris-setosa','0',inplace=True)\n",
    "df[4].replace('Iris-versicolor','1',inplace=True)\n",
    "df[4].replace('Iris-virginica','2',inplace=True)"
   ]
  },
  {
   "cell_type": "markdown",
   "metadata": {},
   "source": [
    "## Method A\n",
    "Convert the 4D data into 2D using PCA and visualise, based on SVD from lab 5"
   ]
  },
  {
   "cell_type": "code",
   "execution_count": 115,
   "metadata": {},
   "outputs": [
    {
     "data": {
      "text/plain": [
       "<Figure size 360x288 with 0 Axes>"
      ]
     },
     "metadata": {},
     "output_type": "display_data"
    },
    {
     "data": {
      "image/png": "[encoded data removed]",
      "text/plain": [
       "<Figure size 432x288 with 1 Axes>"
      ]
     },
     "metadata": {
      "needs_background": "light"
     },
     "output_type": "display_data"
    },
    {
     "data": {
      "image/png": "[encoded data removed]",
      "text/plain": [
       "<Figure size 432x288 with 1 Axes>"
      ]
     },
     "metadata": {
      "needs_background": "light"
     },
     "output_type": "display_data"
    },
    {
     "data": {
      "image/png": "[encoded data removed]",
      "text/plain": [
       "<Figure size 432x288 with 1 Axes>"
      ]
     },
     "metadata": {
      "needs_background": "light"
     },
     "output_type": "display_data"
    }
   ],
   "source": [
    "from sklearn import preprocessing\n",
    "\n",
    "# Code from lab 5 for PCA using SVD, uses preprocessing from sklearn to centre the data\n",
    "def pca_decomposition(dataset):\n",
    "    data_centred = (dataset - dataset.mean()) / dataset.std()\n",
    "#     data_scaled = preprocessing.scale(dataset)\n",
    "    U, s, V = np.linalg.svd(data_centred, full_matrices=True)\n",
    "    return U, s, V\n",
    "\n",
    "x_features = df[df.columns[:-1]]\n",
    "x_label = df[df.columns[-1]]\n",
    "U, s, V = pca_decomposition(x_features)\n",
    "\n",
    "\n",
    "projected_U = U[:, :2] #only take the first 2 components because we want 2D reduction\n",
    "projected_U *= s[:2] #you do X * V to project data which is equivalent to U * S so we can just do that\n",
    "\n",
    "dimension_reduced_iris = pd.DataFrame(data = projected_U, columns = ['PC1', 'PC2'])\n",
    "#add the labels back to the data so it can be used in the graph..\n",
    "dimension_reduced_iris[\"label\"] = x_label\n",
    "\n",
    "plt.figure(figsize=(5, 4))\n",
    "#setosa\n",
    "setosa = dimension_reduced_iris.loc[dimension_reduced_iris['label'] == \"Iris-setosa\"]\n",
    "plt.scatter(setosa[0], setosa[1], c=\"r\", marker=\"o\")\n",
    "\n",
    "#versicolor\n",
    "versicolor = dimension_reduced_iris.loc[dimension_reduced_iris['label'] == \"Iris-versicolor\"]\n",
    "versicolor.plot.scatter(\"PC1\", \"PC2\", c=\"b\", marker=\"o\")\n",
    "\n",
    "#virginica\n",
    "virginica = dimension_reduced_iris.loc[dimension_reduced_iris['label'] == \"Iris-virginica\"]\n",
    "plt.scatter(virginica[0], virginica[1], c=\"g\", marker=\"o\")\n",
    "\n",
    "plt.xlabel(\"PC1\")\n",
    "plt.ylabel(\"PC2\")\n",
    "\n",
    "plt.show()\n"
   ]
  }
 ],
 "metadata": {
  "kernelspec": {
   "display_name": "Python 3",
   "language": "python",
   "name": "python3"
  },
  "language_info": {
   "codemirror_mode": {
    "name": "ipython",
    "version": 3
   },
   "file_extension": ".py",
   "mimetype": "text/x-python",
   "name": "python",
   "nbconvert_exporter": "python",
   "pygments_lexer": "ipython3",
   "version": "3.7.6"
  }
 },
 "nbformat": 4,
 "nbformat_minor": 4
}
