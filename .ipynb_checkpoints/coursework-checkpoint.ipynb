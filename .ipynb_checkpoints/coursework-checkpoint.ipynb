{
 "cells": [
  {
   "cell_type": "markdown",
   "metadata": {},
   "source": [
    "## Import the dataset\n",
    "[coursework doc](https://warwick.ac.uk/fac/sci/dcs/teaching/material/cs342/coursework_cs342_2020-2021.pdf)\n",
    "[iterative process](https://warwick.ac.uk/fac/sci/dcs/teaching/material/cs342/iterativeprocess.pdf)\n",
    "\n",
    "Dataset information:\n",
    "1) sepal length in cm \n",
    "2) sepal width in cm\n",
    "3) petal length in cm\n",
    "4) petal width in cm\n",
    "\n",
    "\n",
    "Variance of features in X after centering the data\n",
    "* 0  =  0.685694\n",
    "* 1  =  0.188004\n",
    "* 2  =  3.113179\n",
    "* 3  =  0.582414\n",
    "\n",
    "variance min = 0.188004\n",
    "variance max = 3.113179\n",
    "\n",
    "-----\n",
    "\n",
    "min variance squared = 0.03534550401\n",
    "max variance squared = 9.69188348604\n",
    "\n",
    "Gamma min = (1)/(2(9.69188348604 +0.05) = 0.05132477725\n",
    "Gamma max = (1)/(2(0.03534550401+0.05) = 5.85853942513\n",
    "\n"
   ]
  },
  {
   "cell_type": "code",
   "execution_count": 1,
   "metadata": {},
   "outputs": [],
   "source": [
    "import pandas as pd\n",
    "import matplotlib.pyplot as plt\n",
    "import numpy as np\n",
    "import random\n",
    "import math\n",
    "\n",
    "#import the flower data\n",
    "df = pd.read_csv(\"./iris.data\", header=None)\n",
    "df[4].replace('Iris-setosa',0,inplace=True)\n",
    "df[4].replace('Iris-versicolor',1,inplace=True)\n",
    "df[4].replace('Iris-virginica',2,inplace=True)\n"
   ]
  },
  {
   "cell_type": "markdown",
   "metadata": {},
   "source": [
    "## Method A\n",
    "Convert the 4D data into 2D using PCA and visualise, based on SVD from lab 5"
   ]
  },
  {
   "cell_type": "code",
   "execution_count": 2,
   "metadata": {},
   "outputs": [
    {
     "data": {
      "image/png": "[encoded data removed]",
      "text/plain": [
       "<Figure size 360x288 with 1 Axes>"
      ]
     },
     "metadata": {
      "needs_background": "light"
     },
     "output_type": "display_data"
    }
   ],
   "source": [
    "from sklearn import preprocessing\n",
    "\n",
    "# Code from lab 5 for PCA using SVD, uses preprocessing from sklearn to centre the data\n",
    "def pca_decomposition(dataset):\n",
    "    data_centred = (dataset - dataset.mean()) / dataset.std()\n",
    "#     data_scaled = preprocessing.scale(dataset)\n",
    "    U, s, V = np.linalg.svd(data_centred, full_matrices=True)\n",
    "    return U, s, V\n",
    "\n",
    "x_features = df[df.columns[:-1]]\n",
    "x_label = df[df.columns[-1]]\n",
    "U, s, V = pca_decomposition(x_features)\n",
    "\n",
    "\n",
    "\n",
    "projected_U = U[:, :2] #only take the first 2 components because we want 2D reduction\n",
    "projected_U *= s[:2] #take the eigenvectors and multiply by the singular values to get the principal components\n",
    "\n",
    "dimension_reduced_iris = pd.DataFrame(data = projected_U, columns = ['PC1', 'PC2'])\n",
    "#add the labels back to the data so it can be used in the graph..\n",
    "dimension_reduced_iris[\"label\"] = x_label\n",
    "\n",
    "\n",
    "plt.figure(figsize=(5, 4))\n",
    "#setosa\n",
    "setosa = dimension_reduced_iris.loc[dimension_reduced_iris['label'] == 0]\n",
    "plt.scatter(setosa[\"PC1\"], setosa[\"PC2\"], c=\"r\", marker=\"o\")\n",
    "\n",
    "#versicolor\n",
    "versicolor = dimension_reduced_iris.loc[dimension_reduced_iris['label'] == 1]\n",
    "plt.scatter(versicolor[\"PC1\"], versicolor[\"PC2\"], c=\"b\", marker=\"o\")\n",
    "\n",
    "#virginica\n",
    "virginica = dimension_reduced_iris.loc[dimension_reduced_iris['label'] == 2]\n",
    "plt.scatter(virginica[\"PC1\"], virginica[\"PC2\"], c=\"g\", marker=\"o\")\n",
    "\n",
    "plt.xlabel(\"PC1\")\n",
    "plt.ylabel(\"PC2\")\n",
    "plt.legend([\"Iris-setosa\", \"Iris-versicolor\", \"Iris-virginica\"])\n",
    "\n",
    "plt.show()\n"
   ]
  },
  {
   "cell_type": "markdown",
   "metadata": {},
   "source": [
    "## Method B\n",
    "Multi class perceptron on the 2d subspace. Make sure to encourage the largest predicted value to be the correct classification. Use the lab as a starting point.\n",
    "\n",
    "\n",
    "### Hints\n",
    "1) Define the class labels as numerical values, e.g., use 0, 1 and 2, for the three labels.\n",
    "2) Determine how to update the weights of the linear classifier that provides the maximum predicted value and those of the\n",
    "linear classifier associated with the correct class when the prediction is incorrect.\n",
    "3) Recall adding a bias to the linear classifiers.\n",
    "4) The algorithm may need to run for several iterations, as the data is not linearly separable. In each iteration, all training\n",
    "samples should be used in random order. Train your"
   ]
  },
  {
   "cell_type": "markdown",
   "metadata": {},
   "source": [
    "### Convert the dataset labels into numbers rather than text\n",
    "0 = Iris-setosa\n",
    "1 = Iris-versicolor\n",
    "2 = Iris-virginica"
   ]
  },
  {
   "cell_type": "code",
   "execution_count": 12,
   "metadata": {},
   "outputs": [
    {
     "name": "stdout",
     "output_type": "stream",
     "text": [
      "3\n"
     ]
    }
   ],
   "source": [
    "class MultiClassPerceptron():\n",
    "    def __init__(self, data, classes, iterations):\n",
    "        self.data = data\n",
    "        self.classes = classes\n",
    "        self.iterations = iterations\n",
    "        \n",
    "         \n",
    "        #Create the weights for each classes with a bias term of 1 at the 0 index for each weight vector\n",
    "        #Has the label included at this point and not the bias so it balanced out in size\n",
    "        feature_count = len(self.data[0])\n",
    "        self.weights = {}\n",
    "        for i in self.classes:\n",
    "            self.weights[i] = np.array([0.0 for i in range(feature_count)])\n",
    "            \n",
    "        #Add the bias (1) to each of the feature vectors for all training examples\n",
    "        for idx, feature_vector in enumerate(self.data):\n",
    "            self.data[idx] = [1.0] + self.data[idx]\n",
    "        \n",
    "    def train(self):\n",
    "        #Run the training for the specified number of iterations\n",
    "        for iteration in range(self.iterations):\n",
    "            random.shuffle(self.data)\n",
    "            \n",
    "            for n in self.data:\n",
    "                features = n[:-1]\n",
    "                label = int(n[-1:][0])\n",
    "                \n",
    "                #current largest predicted value\n",
    "                argmax = 0\n",
    "                #current predicted class\n",
    "                predicted_class = random.choice(self.classes)\n",
    "                \n",
    "                #classify the training examples for all classifiers (each class)\n",
    "                for idx, c in enumerate(self.classes):\n",
    "                    classification = np.dot(self.weights[c], features)\n",
    "                    \n",
    "                    if classification >= argmax:\n",
    "                        argmax = classification\n",
    "                        predicted_class = c\n",
    "                        #print(\"Classification for classifier \" + str(c) + \" = \" + str(classification) + \" actual (\" + str(label) + \")\")\n",
    "                \n",
    "                #Refine the solution if the prediction is wrong\n",
    "                if not (str(predicted_class) == str(label)):\n",
    "                    #Add weight to the right class based on the features of current testing example\n",
    "                    self.weights[str(label)] += np.array(features)\n",
    "                    #Subtract weight to the one we predicted incorrectly\n",
    "                    self.weights[str(predicted_class)] -= np.array(features)\n",
    "                    #Restart on all the examples again (without shuffling again)\n",
    "                    continue\n",
    "    \n",
    "    def predict(self, features):\n",
    "        #add the bias\n",
    "        features = [1] + features\n",
    "        \n",
    "        argmax = 0\n",
    "        predicted_class = self.classes[0]\n",
    "        \n",
    "        #for each classifier run it on the example only returning the largest predicted value\n",
    "        for c in self.classes:\n",
    "            classification = np.dot(self.weights[c], features)\n",
    "            if classification >= argmax:\n",
    "                argmax = classification\n",
    "                predicted_class = c\n",
    "            \n",
    "        return predicted_class\n",
    "    \n",
    "    def get_weights(self):\n",
    "        return self.weights\n",
    "    \n",
    "    def get_data(self):\n",
    "        return self.data\n",
    "    \n",
    "    def get_accuracy(self):\n",
    "        inaccurate_predictions = 0\n",
    "        for example in self.data:\n",
    "            #remove the bias and the label, store the label to compare against after prediction\n",
    "            label = int(example[-1])\n",
    "            features = example[1:-1]\n",
    "            predicted_class = self.predict(features)\n",
    "            if str(predicted_class) != str(label):\n",
    "                inaccurate_predictions += 1\n",
    "        return inaccurate_predictions\n",
    "        #return (len(self.data)-inaccurate_predictions)/len(self.data)\n",
    "    \n",
    "        \n",
    "features = df.iloc[:,:-1].values.tolist()\n",
    "labels = df.iloc[:,-1:].values.tolist()\n",
    "\n",
    "accuracy_results = []\n",
    "mcp = MultiClassPerceptron(df.values.tolist(), [\"0\", \"1\", \"2\"], 50)\n",
    "mcp.train()\n",
    "\n",
    "print(mcp.get_accuracy())"
   ]
  },
  {
   "cell_type": "markdown",
   "metadata": {},
   "source": [
    "\n",
    "### 2D Multiclass perceptron"
   ]
  },
  {
   "cell_type": "code",
   "execution_count": 15,
   "metadata": {},
   "outputs": [
    {
     "name": "stdout",
     "output_type": "stream",
     "text": [
      "{'0': array([ -1.        , -10.52103737,  -1.44545372]), '1': array([ 7.        ,  0.25125889, -0.19647728]), '2': array([-6.        , 10.26977848,  1.64193101])}\n",
      "-1.4454537243931536\n",
      "-0.19647728171135836\n",
      "1.6419310061045076\n"
     ]
    },
    {
     "data": {
      "image/png": "[encoded data removed]",
      "text/plain": [
       "<Figure size 360x288 with 1 Axes>"
      ]
     },
     "metadata": {
      "needs_background": "light"
     },
     "output_type": "display_data"
    },
    {
     "name": "stdout",
     "output_type": "stream",
     "text": [
      "14\n"
     ]
    }
   ],
   "source": [
    "projected_list = projected_U.tolist()\n",
    "for idx, label in enumerate(labels):\n",
    "    projected_list[idx].append(label[0])\n",
    "\n",
    "accuracy_results = []\n",
    "\n",
    "twod_mcp = MultiClassPerceptron(projected_list, [\"0\", \"1\", \"2\"], 50)\n",
    "twod_mcp.train()\n",
    "\n",
    "fig = plt.figure(figsize=(5, 4))\n",
    "ax = fig.add_subplot(1,1,1)\n",
    "\n",
    "#setosa\n",
    "setosa = dimension_reduced_iris.loc[dimension_reduced_iris['label'] == 0]\n",
    "plt.scatter(setosa[\"PC1\"], setosa[\"PC2\"], c=\"r\", marker=\"o\")\n",
    "\n",
    "#versicolor\n",
    "versicolor = dimension_reduced_iris.loc[dimension_reduced_iris['label'] == 1]\n",
    "plt.scatter(versicolor[\"PC1\"], versicolor[\"PC2\"], c=\"b\", marker=\"o\")\n",
    "\n",
    "#virginica\n",
    "virginica = dimension_reduced_iris.loc[dimension_reduced_iris['label'] == 2]\n",
    "plt.scatter(virginica[\"PC1\"], virginica[\"PC2\"], c=\"g\", marker=\"o\")\n",
    "\n",
    "new_x_data = []\n",
    "new_y_data = []\n",
    "\n",
    "for i in projected_list:\n",
    "    new_x_data.append(i[1])\n",
    "    new_y_data.append(i[2])\n",
    "\n",
    "print(twod_mcp.get_weights())\n",
    "for i in range(3):\n",
    "    #calculate the decision boundaries\n",
    "    \n",
    "    markers = [\"r\", \"b\", \"g\"]\n",
    "    \n",
    "\n",
    "    x0_1 = np.amin(new_x_data)\n",
    "    x0_2 = np.amax(new_x_data)\n",
    "    print(twod_mcp.get_weights()[str(i)][2])\n",
    "    x1_1 = (-twod_mcp.get_weights()[str(i)][1] * x0_1 - twod_mcp.get_weights()[str(i)][0]) / twod_mcp.get_weights()[str(i)][2]\n",
    "    x1_2 = (-twod_mcp.get_weights()[str(i)][1] * x0_2 - twod_mcp.get_weights()[str(i)][0]) / twod_mcp.get_weights()[str(i)][2]\n",
    "\n",
    "    ax.plot([x0_1, x0_2],[x1_1, x1_2], color=markers[i])\n",
    "\n",
    "\n",
    "plt.xlabel(\"PC1\")\n",
    "plt.ylabel(\"PC2\")\n",
    "plt.legend([\"Iris-setosa\", \"Iris-versicolor\", \"Iris-virginica\"])\n",
    "plt.ylim([-10,10])\n",
    "plt.show()\n",
    "\n",
    "print(twod_mcp.get_accuracy())\n"
   ]
  },
  {
   "cell_type": "code",
   "execution_count": 5,
   "metadata": {},
   "outputs": [
    {
     "name": "stdout",
     "output_type": "stream",
     "text": [
      "{'0': array([ 7. , -4.3,  0.2]), '1': array([-7. ,  4.3, -0.2])}\n"
     ]
    },
    {
     "data": {
      "image/png": "[encoded data removed]",
      "text/plain": [
       "<Figure size 360x288 with 1 Axes>"
      ]
     },
     "metadata": {
      "needs_background": "light"
     },
     "output_type": "display_data"
    },
    {
     "name": "stdout",
     "output_type": "stream",
     "text": [
      "0\n",
      "Accuracy: 1.0\n"
     ]
    }
   ],
   "source": [
    "random_list=[\n",
    "             [1, 1, 0], [1.6, 2.8, 0], [1.5, 3, 0], [1.3, 1.4, 0], [1.1, 1.2, 0],\n",
    "             [2, 4, 1], [3, 2, 1], [2.1, 3, 1], [2.4, 4, 1], [2.7, 2, 1]\n",
    "            ]\n",
    "othermcp = MultiClassPerceptron(random_list, [\"0\", \"1\"], 50)\n",
    "othermcp.train()\n",
    "\n",
    "fig = plt.figure(figsize=(5, 4))\n",
    "ax = fig.add_subplot(1,1,1)\n",
    "\n",
    "plt.scatter([1.1, 1.6, 1.5, 1.3, 1.1], [1.0, 2.8, 3.0, 1.4, 1.2], c=\"r\", marker=\"o\")\n",
    "\n",
    "plt.scatter([2.0, 3.0, 2.1, 2.4, 2.7], [-4.0, -2.0, -3.0, -4.0, -2.0], c=\"b\", marker=\"o\")\n",
    "\n",
    "print(othermcp.get_weights())\n",
    "for i in range(2):\n",
    "    #calculate the decision boundaries\n",
    "    \n",
    "    x0_1 = np.amin(new_x_data)\n",
    "    x0_2 = np.amax(new_x_data)\n",
    "    x1_1 = (-othermcp.get_weights()[str(i)][1] * x0_1 - othermcp.get_weights()[str(i)][0]) / othermcp.get_weights()[str(i)][2]\n",
    "    x1_2 = (-othermcp.get_weights()[str(i)][1] * x0_2 - othermcp.get_weights()[str(i)][0]) / othermcp.get_weights()[str(i)][2]\n",
    "\n",
    "    ax.plot([x0_1, x0_2],[x1_1, x1_2])\n",
    "\n",
    "\n",
    "plt.legend([\"1\", \"2\"])\n",
    "plt.show()\n",
    "\n",
    "inaccurate_predictions = 0\n",
    "for i in random_list:\n",
    "    prediction = int(othermcp.predict(i[1:-1]))\n",
    "    actual = i[3]\n",
    "    if actual != prediction:\n",
    "        inaccurate_predictions += 1\n",
    "\n",
    "print(inaccurate_predictions)\n",
    "accuracy = (15-inaccurate_predictions)/15\n",
    "print(\"Accuracy: \" + str(accuracy))"
   ]
  },
  {
   "cell_type": "markdown",
   "metadata": {},
   "source": [
    "# Kernel Method\n",
    "Projecting the data onto a higher dimensional subspace so that, hopefully, the data becomes seperable"
   ]
  },
  {
   "cell_type": "code",
   "execution_count": 67,
   "metadata": {},
   "outputs": [],
   "source": [
    "def l2Squared(xi, xj):\n",
    "    return np.linalg.norm(np.array(xi) - np.array(xj), 2) ** 2\n",
    "\n",
    "#Creating the kernel matrix, it is the dot product between all examples in the data set\n",
    "    \n",
    "#Computes the kernel matrix K (nxn)\n",
    "def computeKernelMatrix(data, sigma):\n",
    "    K = []\n",
    "    for idx, i in enumerate(data):\n",
    "        K.append([])\n",
    "        for idxTwo, j in enumerate(data):\n",
    "             #K[idx].append(np.dot(i, j))\n",
    "                rbfKernel = np.exp(-(1/(2*(sigma**2))) * l2Squared(i, j)) \n",
    "                K[idx].append(rbfKernel)\n",
    "            \n",
    "    return K\n",
    "            \n",
    "def computeNormalisedKernelMatrix(K):\n",
    "    #Need to generate the A matrix which is an nxn matrix with all values set to 1/n (n being training sample size)\n",
    "    A = []\n",
    "    n = len(np.array(K).flatten())\n",
    "    for i in range(int(math.sqrt(n))):\n",
    "        A.append([])\n",
    "        for j in range(int(math.sqrt(n))):\n",
    "            A[i].append(1/n)\n",
    "            \n",
    "    #Now use the formula ~K = K-AK-KA+(AK)A\n",
    "    normalisedK = K-np.dot(A, K) - np.dot(K, A) + np.dot((np.dot(A, K)), A)\n",
    "    return normalisedK\n",
    "\n",
    "\n",
    "# def kernelPCA(normalisedK, components):\n",
    "#         #dont need to center the data here, it is already done by figuring out the normalised K\n",
    "#         U, s, V = np.linalg.svd(normalisedK, full_matrices=True)\n",
    "#         eigenvectors = V\n",
    "#         eigenvalues = s**2/(normalisedK.shape[0])\n",
    "#         return np.column_stack([eigenvectors[:, components] for i in range(components)]) \n",
    "    \n",
    "    \n",
    "def kernelPCA(normalisedK, components):\n",
    "        #dont need to center the data here, it is already done by figuring out the normalised K\n",
    "        U, s, V = np.linalg.svd(normalisedK, full_matrices=True)\n",
    "        pcs = U[:, :components]\n",
    "        pcs *= s[:components]\n",
    "        return pcs\n",
    "    \n",
    "class GridSearch():\n",
    "    def __init__(self, data, pc_min, pc_max, gammaMin, gammaMax):\n",
    "        self.data = data\n",
    "        self.pc_min = pc_min\n",
    "        self.pc_max = pc_max\n",
    "        self.gammaMin = gammaMin\n",
    "        self.gammaMax = gammaMax\n",
    "       \n",
    "    def calculateBestParameters(self):\n",
    "        #for all the principal components\n",
    "        scoresForParameters = {}\n",
    "        \n",
    "        for pc_components in range(self.pc_min, self.pc_max+1):\n",
    "            #for all the possible gamma values\n",
    "            for gamma in np.arange(self.gammaMin, self.gammaMax, 1):\n",
    "                gamma = round(gamma, 2)\n",
    "                acc = self.getAccuracyForParameters(pc_components, gamma)\n",
    "                scoresForParameters[(pc_components, gamma)] = round(acc, 3)\n",
    "                \n",
    "        return scoresForParameters\n",
    "            \n",
    "    def getAccuracyForParameters(self, pcs, gamma):\n",
    "        #print(\"-----[ pcs=\" + str(pcs) + \"  gamma=\" + str(gamma) + \" ]-----\")\n",
    "        K = computeKernelMatrix(self.data, gamma)\n",
    "        NormalisedK = computeNormalisedKernelMatrix(K)\n",
    "\n",
    "        #Apply kernel decompositon\n",
    "        projected_kpca = kernelPCA(NormalisedK, pcs)\n",
    "        \n",
    "        #Dynamic column count so create the titles\n",
    "        columns = []\n",
    "        for i in range(pcs):\n",
    "            columns.append(\"PC\" + str(i+1))\n",
    "        \n",
    "        #Convert to dataframe and add back the labels\n",
    "        kpca = pd.DataFrame(data = projected_kpca, columns = columns)\n",
    "        kpca[\"label\"] = x_label\n",
    "        \n",
    "        #Train the MCP\n",
    "        gs_mcp = MultiClassPerceptron(kpca.values.tolist(), [\"0\", \"1\", \"2\"], 50)\n",
    "        gs_mcp.train()\n",
    "        return gs_mcp.get_accuracy()\n",
    "    \n",
    "    def get_pc_min(self):\n",
    "        return self.pc_min\n",
    "\n",
    "    def get_pc_max(self):\n",
    "        return self.pc_max\n"
   ]
  },
  {
   "cell_type": "code",
   "execution_count": 75,
   "metadata": {},
   "outputs": [
    {
     "data": {
      "image/png": "[encoded data removed]",
      "text/plain": [
       "<Figure size 432x864 with 2 Axes>"
      ]
     },
     "metadata": {
      "needs_background": "light"
     },
     "output_type": "display_data"
    }
   ],
   "source": [
    "#Create the heatmap / matrix for the results of the grid search\n",
    "gs = GridSearch(features, 5, 10, 0.05132477725, 5.85853942513)\n",
    "gs_results = gs.calculateBestParameters()\n",
    "\n",
    "#Convert the dictionary of results to a nested list of error values for the heatmap\n",
    "len_for_nested_list = len(np.arange(0.05132477725, 5.85853942513, 1))\n",
    "current_nested_idx = 0\n",
    "final_results = [[]]\n",
    "for idx, tup in enumerate(gs_results.items()):\n",
    "    if idx % len_for_nested_list == 0 and idx != 0:\n",
    "        final_results.append(list())\n",
    "        current_nested_idx += 1\n",
    "    final_results[current_nested_idx].append(tup[1])\n",
    "\n",
    "final_results.reverse()\n",
    "p_components = [str(i) for i in range(gs.get_pc_min(), gs.get_pc_max()+1)]\n",
    "p_components.reverse()\n",
    "gamma = [round(gamma, 2) for gamma in np.arange(0.05132477725, 5.85853942513, 1)]\n",
    "\n",
    "import matplotlib\n",
    "import matplotlib.pyplot as plt\n",
    "\n",
    "#Custom colour map for yellow to red error counts\n",
    "cmap = matplotlib.colors.LinearSegmentedColormap.from_list(\"\", [\"lightyellow\",\"orange\", \"red\", \"darkred\"])\n",
    "        \n",
    "fig, ax = plt.subplots(figsize=(6, 12))\n",
    "im = ax.imshow(np.array(final_results), cmap=cmap)\n",
    "\n",
    "#Text in the centre of the heatmap for debugging\n",
    "for i in range(len(p_components)):\n",
    "    for j in range(len(gamma)):\n",
    "        text = ax.text(i, j, final_results[i][j], ha=\"center\", va=\"center\", color=\"b\")\n",
    "\n",
    "ax.set_xticks(np.arange(len(gamma)))\n",
    "ax.set_yticks(np.arange(len(p_components)))\n",
    "\n",
    "ax.set_xticklabels(gamma)\n",
    "ax.set_yticklabels(p_components)\n",
    "\n",
    "fig.colorbar(im,ax=ax, label=\"No of errors\")\n",
    "\n",
    "plt.xlabel(\"gamma\")\n",
    "plt.ylabel(\"No of top PCs\")\n",
    "plt.show()\n"
   ]
  },
  {
   "cell_type": "code",
   "execution_count": null,
   "metadata": {},
   "outputs": [],
   "source": []
  }
 ],
 "metadata": {
  "kernelspec": {
   "display_name": "Python 3",
   "language": "python",
   "name": "python3"
  },
  "language_info": {
   "codemirror_mode": {
    "name": "ipython",
    "version": 3
   },
   "file_extension": ".py",
   "mimetype": "text/x-python",
   "name": "python",
   "nbconvert_exporter": "python",
   "pygments_lexer": "ipython3",
   "version": "3.7.6"
  }
 },
 "nbformat": 4,
 "nbformat_minor": 4
}
