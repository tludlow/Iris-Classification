{
 "cells": [
  {
   "cell_type": "markdown",
   "metadata": {},
   "source": [
    "## Import the dataset\n",
    "[coursework doc](https://warwick.ac.uk/fac/sci/dcs/teaching/material/cs342/coursework_cs342_2020-2021.pdf)\n",
    "[iterative process](https://warwick.ac.uk/fac/sci/dcs/teaching/material/cs342/iterativeprocess.pdf)\n",
    "\n",
    "Dataset information:\n",
    "1) sepal length in cm \n",
    "2) sepal width in cm\n",
    "3) petal length in cm\n",
    "4) petal width in cm"
   ]
  },
  {
   "cell_type": "code",
   "execution_count": 1,
   "metadata": {},
   "outputs": [
    {
     "name": "stdout",
     "output_type": "stream",
     "text": [
      "       0    1    2    3               4\n",
      "0    5.1  3.5  1.4  0.2     Iris-setosa\n",
      "1    4.9  3.0  1.4  0.2     Iris-setosa\n",
      "2    4.7  3.2  1.3  0.2     Iris-setosa\n",
      "3    4.6  3.1  1.5  0.2     Iris-setosa\n",
      "4    5.0  3.6  1.4  0.2     Iris-setosa\n",
      "..   ...  ...  ...  ...             ...\n",
      "145  6.7  3.0  5.2  2.3  Iris-virginica\n",
      "146  6.3  2.5  5.0  1.9  Iris-virginica\n",
      "147  6.5  3.0  5.2  2.0  Iris-virginica\n",
      "148  6.2  3.4  5.4  2.3  Iris-virginica\n",
      "149  5.9  3.0  5.1  1.8  Iris-virginica\n",
      "\n",
      "[150 rows x 5 columns]\n"
     ]
    }
   ],
   "source": [
    "import pandas as pd\n",
    "import matplotlib.pyplot as plt\n",
    "import numpy as np\n",
    "import random\n",
    "import math\n",
    "\n",
    "#import the flower data\n",
    "df = pd.read_csv(\"./iris.data\", header=None)\n",
    "print(df)"
   ]
  },
  {
   "cell_type": "markdown",
   "metadata": {},
   "source": [
    "## Method A\n",
    "Convert the 4D data into 2D using PCA and visualise, based on SVD from lab 5"
   ]
  },
  {
   "cell_type": "code",
   "execution_count": 2,
   "metadata": {},
   "outputs": [
    {
     "data": {
      "image/png": "[encoded data removed]",
      "text/plain": [
       "<Figure size 360x288 with 1 Axes>"
      ]
     },
     "metadata": {
      "needs_background": "light"
     },
     "output_type": "display_data"
    }
   ],
   "source": [
    "from sklearn import preprocessing\n",
    "\n",
    "# Code from lab 5 for PCA using SVD, uses preprocessing from sklearn to centre the data\n",
    "def pca_decomposition(dataset):\n",
    "    data_centred = (dataset - dataset.mean()) / dataset.std()\n",
    "#     data_scaled = preprocessing.scale(dataset)\n",
    "    U, s, V = np.linalg.svd(data_centred, full_matrices=True)\n",
    "    return U, s, V\n",
    "\n",
    "x_features = df[df.columns[:-1]]\n",
    "x_label = df[df.columns[-1]]\n",
    "U, s, V = pca_decomposition(x_features)\n",
    "\n",
    "\n",
    "projected_U = U[:, :2] #only take the first 2 components because we want 2D reduction\n",
    "projected_U *= s[:2] #you do X * V to project data which is equivalent to U * S so we can just do that (apparently it's quicker)\n",
    "\n",
    "dimension_reduced_iris = pd.DataFrame(data = projected_U, columns = ['PC1', 'PC2'])\n",
    "#add the labels back to the data so it can be used in the graph..\n",
    "dimension_reduced_iris[\"label\"] = x_label\n",
    "\n",
    "plt.figure(figsize=(5, 4))\n",
    "#setosa\n",
    "setosa = dimension_reduced_iris.loc[dimension_reduced_iris['label'] == \"Iris-setosa\"]\n",
    "plt.scatter(setosa[\"PC1\"], setosa[\"PC2\"], c=\"r\", marker=\"o\")\n",
    "\n",
    "#versicolor\n",
    "versicolor = dimension_reduced_iris.loc[dimension_reduced_iris['label'] == \"Iris-versicolor\"]\n",
    "plt.scatter(versicolor[\"PC1\"], versicolor[\"PC2\"], c=\"b\", marker=\"o\")\n",
    "\n",
    "#virginica\n",
    "virginica = dimension_reduced_iris.loc[dimension_reduced_iris['label'] == \"Iris-virginica\"]\n",
    "plt.scatter(virginica[\"PC1\"], virginica[\"PC2\"], c=\"g\", marker=\"o\")\n",
    "\n",
    "plt.xlabel(\"PC1\")\n",
    "plt.ylabel(\"PC2\")\n",
    "plt.legend([\"Iris-setosa\", \"Iris-versicolor\", \"Iris-virginica\"])\n",
    "\n",
    "plt.show()\n"
   ]
  },
  {
   "cell_type": "markdown",
   "metadata": {},
   "source": [
    "## Method B\n",
    "Multi class perceptron on the 2d subspace. Make sure to encourage the largest predicted value to be the correct classification. Use the lab as a starting point.\n",
    "\n",
    "\n",
    "### Hints\n",
    "1) Define the class labels as numerical values, e.g., use 0, 1 and 2, for the three labels.\n",
    "2) Determine how to update the weights of the linear classifier that provides the maximum predicted value and those of the\n",
    "linear classifier associated with the correct class when the prediction is incorrect.\n",
    "3) Recall adding a bias to the linear classifiers.\n",
    "4) The algorithm may need to run for several iterations, as the data is not linearly separable. In each iteration, all training\n",
    "samples should be used in random order. Train your"
   ]
  },
  {
   "cell_type": "markdown",
   "metadata": {},
   "source": [
    "### Convert the dataset labels into numbers rather than text\n",
    "0 = Iris-setosa\n",
    "1 = Iris-versicolor\n",
    "2 = Iris-virginica"
   ]
  },
  {
   "cell_type": "code",
   "execution_count": 3,
   "metadata": {},
   "outputs": [
    {
     "name": "stdout",
     "output_type": "stream",
     "text": [
      "15\n",
      "Accuracy: 0.9\n"
     ]
    }
   ],
   "source": [
    "df[4].replace('Iris-setosa',0,inplace=True)\n",
    "df[4].replace('Iris-versicolor',1,inplace=True)\n",
    "df[4].replace('Iris-virginica',2,inplace=True)\n",
    "\n",
    "class MultiClassPerceptron():\n",
    "    def __init__(self, data, classes, iterations):\n",
    "        self.data = data\n",
    "        self.classes = classes\n",
    "        self.iterations = iterations\n",
    "         \n",
    "        #Create the weights for each classes with a bias term of 1 at the 0 index for each weight vector\n",
    "        #Has the label included at this point and not the bias so it balanced out in size\n",
    "        feature_count = len(self.data[0])\n",
    "        self.weights = {}\n",
    "        for i in self.classes:\n",
    "            self.weights[i] = [0 for i in range(feature_count)]\n",
    "            \n",
    "        #Add the bias (1) to each of the feature vectors for all training examples\n",
    "        for idx, feature_vector in enumerate(self.data):\n",
    "            self.data[idx] = [1] + self.data[idx]\n",
    "        \n",
    "    def train(self):\n",
    "        #Run the training for the specified number of iterations\n",
    "        for iteration in range(self.iterations):\n",
    "            random.shuffle(self.data)\n",
    "            \n",
    "            for n in self.data:\n",
    "                features = n[:-1]\n",
    "                label = int(n[-1:][0])\n",
    "                \n",
    "                #current largest predicted value\n",
    "                argmax = 0\n",
    "                #current predicted class\n",
    "                predicted_class = self.classes[0]\n",
    "                \n",
    "                #classify the training examples for all classifiers (each class)\n",
    "                for idx, c in enumerate(self.classes):\n",
    "                    classification = np.dot(self.weights[c], features)\n",
    "                    \n",
    "                    if classification >= argmax:\n",
    "                        argmax = classification\n",
    "                        predicted_class = c\n",
    "                        #print(\"Classification for classifier \" + str(c) + \" = \" + str(classification) + \" actual (\" + str(label) + \")\")\n",
    "                \n",
    "                #Refine the solution if the prediction is wrong\n",
    "                if not (str(predicted_class) == str(label)):\n",
    "                    self.weights[str(label)] += np.array(features)\n",
    "                    self.weights[str(predicted_class)] -= np.array(features)\n",
    "                    #Restart on all the examples again (without shuffling)\n",
    "                    continue\n",
    "    \n",
    "    def predict(self, features):\n",
    "        #add the bias\n",
    "        features = [1] + features\n",
    "        \n",
    "        argmax = 0\n",
    "        predicted_class = self.classes[0]\n",
    "        \n",
    "        #for each classifier run it on the example only returning the largest predicted value\n",
    "        for c in self.classes:\n",
    "            classification = np.dot(self.weights[c], features)\n",
    "            if classification >= argmax:\n",
    "                argmax = classification\n",
    "                predicted_class = c\n",
    "            \n",
    "        return predicted_class\n",
    "    \n",
    "    def get_weights(self):\n",
    "        return self.weights\n",
    "    \n",
    "    def get_accuracy(self, testData):\n",
    "        print(testData)\n",
    "        \n",
    "features = df.iloc[:,:-1].values.tolist()\n",
    "labels = df.iloc[:,-1:].values.tolist()\n",
    "\n",
    "accuracy_results = []\n",
    "mcp = MultiClassPerceptron(df.values.tolist(), [\"0\", \"1\", \"2\"], 50)\n",
    "mcp.train()\n",
    "\n",
    "inaccurate_predictions = 0\n",
    "for i in df.values.tolist():\n",
    "    prediction = int(mcp.predict(i[:-1]))\n",
    "    actual = int(i[-1:][0])\n",
    "    if actual != prediction:\n",
    "        inaccurate_predictions += 1\n",
    "\n",
    "print(inaccurate_predictions)\n",
    "accuracy = (150-inaccurate_predictions)/150\n",
    "print(\"Accuracy: \" + str(accuracy))\n",
    "accuracy_results.append(accuracy)"
   ]
  },
  {
   "cell_type": "markdown",
   "metadata": {},
   "source": [
    "\n",
    "### 2D Multiclass perceptron"
   ]
  },
  {
   "cell_type": "code",
   "execution_count": 20,
   "metadata": {},
   "outputs": [
    {
     "data": {
      "image/png": "[encoded data removed]",
      "text/plain": [
       "<Figure size 360x288 with 1 Axes>"
      ]
     },
     "metadata": {
      "needs_background": "light"
     },
     "output_type": "display_data"
    },
    {
     "name": "stdout",
     "output_type": "stream",
     "text": [
      "16\n",
      "Accuracy: 0.8933333333333333\n"
     ]
    }
   ],
   "source": [
    "projected_list = projected_U.tolist()\n",
    "for idx, label in enumerate(labels):\n",
    "    projected_list[idx].append(label[0])\n",
    "\n",
    "accuracy_results = []\n",
    "\n",
    "twod_mcp = MultiClassPerceptron(projected_list, [\"0\", \"1\", \"2\"], 50)\n",
    "twod_mcp.train()\n",
    "\n",
    "fig = plt.figure(figsize=(5, 4))\n",
    "ax = fig.add_subplot(1,1,1)\n",
    "\n",
    "#setosa\n",
    "setosa = dimension_reduced_iris.loc[dimension_reduced_iris['label'] == \"Iris-setosa\"]\n",
    "plt.scatter(setosa[\"PC1\"], setosa[\"PC2\"], c=\"r\", marker=\"o\")\n",
    "\n",
    "#versicolor\n",
    "versicolor = dimension_reduced_iris.loc[dimension_reduced_iris['label'] == \"Iris-versicolor\"]\n",
    "plt.scatter(versicolor[\"PC1\"], versicolor[\"PC2\"], c=\"b\", marker=\"o\")\n",
    "\n",
    "#virginica\n",
    "virginica = dimension_reduced_iris.loc[dimension_reduced_iris['label'] == \"Iris-virginica\"]\n",
    "plt.scatter(virginica[\"PC1\"], virginica[\"PC2\"], c=\"g\", marker=\"o\")\n",
    "\n",
    "new_x_data = []\n",
    "new_y_data = []\n",
    "\n",
    "for i in projected_list:\n",
    "    new_x_data.append(i[1])\n",
    "    new_y_data.append(i[2])\n",
    "\n",
    "for i in range(3):\n",
    "    #calculate the decision boundaries\n",
    "\n",
    "    x0_1 = np.amin(new_x_data)\n",
    "    x0_2 = np.amax(new_x_data)\n",
    "    x1_1 = (-twod_mcp.get_weights()[str(i)][1] * x0_1 - twod_mcp.get_weights()[str(i)][0]) / twod_mcp.get_weights()[str(i)][2]\n",
    "    x1_2 = (-twod_mcp.get_weights()[str(i)][1] * x0_2 - twod_mcp.get_weights()[str(i)][0]) / twod_mcp.get_weights()[str(i)][2]\n",
    "\n",
    "    ax.plot([x0_1, x0_2],[x1_1, x1_2])\n",
    "\n",
    "\n",
    "plt.xlabel(\"PC1\")\n",
    "plt.ylabel(\"PC2\")\n",
    "plt.legend([\"Iris-setosa\", \"Iris-versicolor\", \"Iris-virginica\"])\n",
    "plt.ylim([-3,3])\n",
    "plt.show()\n",
    "\n",
    "inaccurate_predictions = 0\n",
    "for i in projected_list:\n",
    "    prediction = int(twod_mcp.predict(i[1:-1]))\n",
    "    actual = i[3]\n",
    "    if actual != prediction:\n",
    "        inaccurate_predictions += 1\n",
    "        \n",
    "print(inaccurate_predictions)\n",
    "accuracy = (150-inaccurate_predictions)/150\n",
    "print(\"Accuracy: \" + str(accuracy))\n"
   ]
  },
  {
   "cell_type": "code",
   "execution_count": 5,
   "metadata": {},
   "outputs": [
    {
     "ename": "UFuncTypeError",
     "evalue": "Cannot cast ufunc 'add' output from dtype('float64') to dtype('int32') with casting rule 'same_kind'",
     "output_type": "error",
     "traceback": [
      "\u001b[1;31m---------------------------------------------------------------------------\u001b[0m",
      "\u001b[1;31mUFuncTypeError\u001b[0m                            Traceback (most recent call last)",
      "\u001b[1;32m<ipython-input-5-f8a297b2bc1c>\u001b[0m in \u001b[0;36m<module>\u001b[1;34m\u001b[0m\n\u001b[0;32m      5\u001b[0m             ]\n\u001b[0;32m      6\u001b[0m \u001b[0mothermcp\u001b[0m \u001b[1;33m=\u001b[0m \u001b[0mMultiClassPerceptron\u001b[0m\u001b[1;33m(\u001b[0m\u001b[0mrandom_list\u001b[0m\u001b[1;33m,\u001b[0m \u001b[1;33m[\u001b[0m\u001b[1;34m\"0\"\u001b[0m\u001b[1;33m,\u001b[0m \u001b[1;34m\"1\"\u001b[0m\u001b[1;33m,\u001b[0m \u001b[1;34m\"2\"\u001b[0m\u001b[1;33m]\u001b[0m\u001b[1;33m,\u001b[0m \u001b[1;36m50\u001b[0m\u001b[1;33m)\u001b[0m\u001b[1;33m\u001b[0m\u001b[1;33m\u001b[0m\u001b[0m\n\u001b[1;32m----> 7\u001b[1;33m \u001b[0mothermcp\u001b[0m\u001b[1;33m.\u001b[0m\u001b[0mtrain\u001b[0m\u001b[1;33m(\u001b[0m\u001b[1;33m)\u001b[0m\u001b[1;33m\u001b[0m\u001b[1;33m\u001b[0m\u001b[0m\n\u001b[0m\u001b[0;32m      8\u001b[0m \u001b[1;33m\u001b[0m\u001b[0m\n\u001b[0;32m      9\u001b[0m \u001b[0mfig\u001b[0m \u001b[1;33m=\u001b[0m \u001b[0mplt\u001b[0m\u001b[1;33m.\u001b[0m\u001b[0mfigure\u001b[0m\u001b[1;33m(\u001b[0m\u001b[0mfigsize\u001b[0m\u001b[1;33m=\u001b[0m\u001b[1;33m(\u001b[0m\u001b[1;36m5\u001b[0m\u001b[1;33m,\u001b[0m \u001b[1;36m4\u001b[0m\u001b[1;33m)\u001b[0m\u001b[1;33m)\u001b[0m\u001b[1;33m\u001b[0m\u001b[1;33m\u001b[0m\u001b[0m\n",
      "\u001b[1;32m<ipython-input-3-7abeff73e129>\u001b[0m in \u001b[0;36mtrain\u001b[1;34m(self)\u001b[0m\n\u001b[0;32m     45\u001b[0m                 \u001b[1;31m#Refine the solution if the prediction is wrong\u001b[0m\u001b[1;33m\u001b[0m\u001b[1;33m\u001b[0m\u001b[1;33m\u001b[0m\u001b[0m\n\u001b[0;32m     46\u001b[0m                 \u001b[1;32mif\u001b[0m \u001b[1;32mnot\u001b[0m \u001b[1;33m(\u001b[0m\u001b[0mstr\u001b[0m\u001b[1;33m(\u001b[0m\u001b[0mpredicted_class\u001b[0m\u001b[1;33m)\u001b[0m \u001b[1;33m==\u001b[0m \u001b[0mstr\u001b[0m\u001b[1;33m(\u001b[0m\u001b[0mlabel\u001b[0m\u001b[1;33m)\u001b[0m\u001b[1;33m)\u001b[0m\u001b[1;33m:\u001b[0m\u001b[1;33m\u001b[0m\u001b[1;33m\u001b[0m\u001b[0m\n\u001b[1;32m---> 47\u001b[1;33m                     \u001b[0mself\u001b[0m\u001b[1;33m.\u001b[0m\u001b[0mweights\u001b[0m\u001b[1;33m[\u001b[0m\u001b[0mstr\u001b[0m\u001b[1;33m(\u001b[0m\u001b[0mlabel\u001b[0m\u001b[1;33m)\u001b[0m\u001b[1;33m]\u001b[0m \u001b[1;33m+=\u001b[0m \u001b[0mnp\u001b[0m\u001b[1;33m.\u001b[0m\u001b[0marray\u001b[0m\u001b[1;33m(\u001b[0m\u001b[0mfeatures\u001b[0m\u001b[1;33m)\u001b[0m\u001b[1;33m\u001b[0m\u001b[1;33m\u001b[0m\u001b[0m\n\u001b[0m\u001b[0;32m     48\u001b[0m                     \u001b[0mself\u001b[0m\u001b[1;33m.\u001b[0m\u001b[0mweights\u001b[0m\u001b[1;33m[\u001b[0m\u001b[0mstr\u001b[0m\u001b[1;33m(\u001b[0m\u001b[0mpredicted_class\u001b[0m\u001b[1;33m)\u001b[0m\u001b[1;33m]\u001b[0m \u001b[1;33m-=\u001b[0m \u001b[0mnp\u001b[0m\u001b[1;33m.\u001b[0m\u001b[0marray\u001b[0m\u001b[1;33m(\u001b[0m\u001b[0mfeatures\u001b[0m\u001b[1;33m)\u001b[0m\u001b[1;33m\u001b[0m\u001b[1;33m\u001b[0m\u001b[0m\n\u001b[0;32m     49\u001b[0m                     \u001b[1;31m#Restart on all the examples again (without shuffling)\u001b[0m\u001b[1;33m\u001b[0m\u001b[1;33m\u001b[0m\u001b[1;33m\u001b[0m\u001b[0m\n",
      "\u001b[1;31mUFuncTypeError\u001b[0m: Cannot cast ufunc 'add' output from dtype('float64') to dtype('int32') with casting rule 'same_kind'"
     ]
    }
   ],
   "source": [
    "random_list=[\n",
    "             [1, 1, 0], [1.6, 2.8, 0], [1.5, 3, 0], [1.3, 1.4, 0], [1.1, 1.2, 0],\n",
    "             [2, 4, 1], [3, 2, 1], [2.1, 3, 1], [2.4, 4, 1], [2.7, 2, 1],\n",
    "             [1, 5, 2], [3, 6, 2], [2.1, 7, 2], [1.1, 8, 2], [2.7, 9, 2],\n",
    "            ]\n",
    "othermcp = MultiClassPerceptron(random_list, [\"0\", \"1\", \"2\"], 50)\n",
    "othermcp.train()\n",
    "\n",
    "fig = plt.figure(figsize=(5, 4))\n",
    "ax = fig.add_subplot(1,1,1)\n",
    "\n",
    "plt.scatter([1, 1.6, 1.5, 1.3, 1.1], [1, 2.8, 3, 1.4, 1.2], c=\"r\", marker=\"o\")\n",
    "\n",
    "plt.scatter([2, 3, 2.1, 2.4, 2.7], [4, 2, 3, 4, 2], c=\"b\", marker=\"o\")\n",
    "\n",
    "plt.scatter([1, 3, 2.1, 1.1, 2.7], [5, 6, 7, 8, 9], c=\"g\", marker=\"o\")\n",
    "# for i in range(3):\n",
    "#     #calculate the decision boundaries\n",
    "    \n",
    "#     x0_1 = np.amin(new_x_data)\n",
    "#     x0_2 = np.amax(new_x_data)\n",
    "#     x1_1 = (-twod_mcp.get_weights()[str(i)][1] * x0_1 - twod_mcp.get_weights()[str(i)][0]) / twod_mcp.get_weights()[str(i)][2]\n",
    "#     x1_2 = (-twod_mcp.get_weights()[str(i)][1] * x0_2 - twod_mcp.get_weights()[str(i)][0]) / twod_mcp.get_weights()[str(i)][2]\n",
    "\n",
    "#     ax.plot([x0_1, x0_2],[x1_1, x1_2])\n",
    "\n",
    "\n",
    "plt.legend([\"1\", \"2\", \"3\"])\n",
    "plt.show()\n",
    "\n",
    "inaccurate_predictions = 0\n",
    "for i in projected_list:\n",
    "    prediction = int(othermcp.predict(i[1:-1]))\n",
    "    actual = i[3]\n",
    "    if actual != prediction:\n",
    "        inaccurate_predictions += 1\n",
    "\n",
    "print(inaccurate_predictions)\n",
    "accuracy = (15-inaccurate_predictions)/15\n",
    "print(\"Accuracy: \" + str(accuracy))"
   ]
  },
  {
   "cell_type": "markdown",
   "metadata": {},
   "source": [
    "# Kernel Method\n",
    "Projecting the data onto a higher dimensional subspace so that, hopefully, the data becomes seperable"
   ]
  },
  {
   "cell_type": "code",
   "execution_count": 26,
   "metadata": {},
   "outputs": [
    {
     "name": "stdout",
     "output_type": "stream",
     "text": [
      "150\n"
     ]
    }
   ],
   "source": [
    "def l2Squared(xi, xj):\n",
    "    return np.linalg.norm(np.array(xi) - np.array(xj), 2) ** 2\n",
    "\n",
    "#Creating the kernel matrix, it is the dot product between all examples in the data set\n",
    "    \n",
    "#Computes the kernel matrix K (nxn)\n",
    "def computeKernelMatrix(data, sigma):\n",
    "    K = []\n",
    "    for idx, i in enumerate(data):\n",
    "        K.append([])\n",
    "        for idxTwo, j in enumerate(data):\n",
    "             #K[idx].append(np.dot(i, j))\n",
    "                rbfKernel = np.exp(-(1/(2*(sigma**2))) * l2Squared(i, j)) \n",
    "                K[idx].append(rbfKernel)\n",
    "            \n",
    "    return K\n",
    "            \n",
    "def computeNormalisedKernelMatrix(K):\n",
    "    #Need to generate the A matrix which is an nxn matrix with all values set to 1/n (n being training sample size)\n",
    "    A = []\n",
    "    n = len(np.array(K).flatten())\n",
    "    for i in range(int(math.sqrt(n))):\n",
    "        A.append([])\n",
    "        for j in range(int(math.sqrt(n))):\n",
    "            A[i].append(1/n)\n",
    "            \n",
    "    #Now use the formula ~K = K-AK-KA+(AK)A\n",
    "    normalisedK = K-np.dot(A, K) - np.dot(K, A) + np.dot((np.dot(A, K)), A)\n",
    "    return normalisedK\n",
    "\n",
    "\n",
    "K = computeKernelMatrix(projected_list, 0.32)\n",
    "NormalisedK = computeNormalisedKernelMatrix(K)\n",
    "\n",
    "U, s, V = pca_decomposition(NormalisedK)\n",
    "print(len(V))\n",
    "\n",
    "\n",
    "\n",
    "\n",
    "\n",
    "\n",
    "\n"
   ]
  }
 ],
 "metadata": {
  "kernelspec": {
   "display_name": "Python 3",
   "language": "python",
   "name": "python3"
  },
  "language_info": {
   "codemirror_mode": {
    "name": "ipython",
    "version": 3
   },
   "file_extension": ".py",
   "mimetype": "text/x-python",
   "name": "python",
   "nbconvert_exporter": "python",
   "pygments_lexer": "ipython3",
   "version": "3.7.6"
  }
 },
 "nbformat": 4,
 "nbformat_minor": 4
}
